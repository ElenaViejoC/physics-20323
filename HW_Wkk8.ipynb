{
 "cells": [
  {
   "cell_type": "markdown",
   "metadata": {},
   "source": [
    "# PHYS 20323/60323 Homework Week 8\n",
    "\n",
    "FALL 2022\n"
   ]
  },
  {
   "cell_type": "markdown",
   "metadata": {},
   "source": [
    "### 1) Altitude of a satellite\n",
    "\n",
    "A satellite is to be launched into a circular orbit around the Earth so that it orbits the planet once every T seconds.\n",
    "\n",
    "The altitude h above the Earth’s surface that the satellite must have is:\n",
    "\n",
    "$$h = \\left( \\frac{G M T^2}{4\\pi^2} \\right)^{1/3} - R$$\n",
    "\n",
    "where $G = 6.67 \\times 10^{-11}$ m$^3$ kg$^{-1}$ s$^{-2}$\n",
    "is Newton's gravitational constant, $M = 5.97 \\times 10^{24}$ kg is the mass of the Earth, and $R = 6371$ km is its radius.\n",
    "\n",
    "#### Write a program that asks the user to enter the desired value of T and then calculates and prints out the correct altitude in meters.\n"
   ]
  },
  {
   "cell_type": "code",
   "execution_count": 48,
   "metadata": {},
   "outputs": [
    {
     "name": "stdout",
     "output_type": "stream",
     "text": [
      "1\n",
      "-6039857.967799136\n"
     ]
    }
   ],
   "source": [
    "import numpy as np\n",
    "G= 6.67 * (10 ** -11) \n",
    "M= 5.97 * (10 ** 24)\n",
    "R= (6371 * 1000)\n",
    "inputT= int(input())\n",
    "t = inputT * 60\n",
    "h= (((G * M * (t **2)) / (4 * (np.pi ** 2)))** (1/3)) - R\n",
    "print (h)"
   ]
  },
  {
   "cell_type": "markdown",
   "metadata": {},
   "source": [
    "Use your program to calculate the altitudes of satellites that orbit the Earth once\n",
    "a day (so-called “geosynchronous” orbit), once every 90 minutes, and once every\n",
    "45 minutes. What do you conclude from the last of these calculations?\n",
    "\n",
    "\n",
    "\n"
   ]
  },
  {
   "cell_type": "code",
   "execution_count": 55,
   "metadata": {},
   "outputs": [
    {
     "name": "stdout",
     "output_type": "stream",
     "text": [
      "Enter 1st T value (in minutes) :90\n",
      "279321.62537285965 m\n"
     ]
    }
   ],
   "source": [
    "t1 = int(input(\"Enter 1st T value (in minutes) :\") )\n",
    "T = t1 * 60\n",
    "\n",
    "import math \n",
    "G= 6.67 * (10 ** -11) \n",
    "M= 5.97 * (10 ** 24)\n",
    "R= (6371 * 1000)\n",
    "altitude = (((G * M * (T **2)) / (4 * (np.pi ** 2)))** (1/3)) - R\n",
    "print (altitude, 'm')\n"
   ]
  },
  {
   "cell_type": "code",
   "execution_count": null,
   "metadata": {},
   "outputs": [],
   "source": [
    "#24\n",
    "#8268252.125821233\n"
   ]
  },
  {
   "cell_type": "markdown",
   "metadata": {},
   "source": [
    "Technically a geosynchronous satellite is one that orbits the Earth once persidereal\n",
    "day, which is 23.93 hours, not 24 hours. Why is this? And how much difference\n",
    "will it make to the altitude of the satellite?"
   ]
  },
  {
   "cell_type": "code",
   "execution_count": null,
   "metadata": {},
   "outputs": [],
   "source": [
    "#The sidereal day is the amount of time it takes the Earth to rotate 360 degrees with respect to a fixed perspective, such as far away stars. It takes the Earth 23 hours, 56 minutes and 4 seconds to rotate 360 degrees.\n",
    "\n",
    "#The solar day is how long it takes for the Earth to rotate such that the Sun appears in the same spot in the sky, again. It takes the Earth 24 hours to do that.\n",
    "\n",
    "#The difference is because the Earth is also revolving around the Sun. Let’s use the two drawings, below, to visualize what is happening.\n",
    "\n"
   ]
  },
  {
   "cell_type": "markdown",
   "metadata": {},
   "source": [
    "### 2) Special Relativity\n",
    "\n",
    "A spaceship travels from Earth in a straight line at a (relativistic)\n",
    "speed $v$ to another planet $x$ light years away. Write a program to ask\n",
    "the user for the value of $x$ and the speed $v$ as a fraction of the speed\n",
    "of light, then print out the time in years that the spaceship takes to\n",
    "reach its destination (a) in the rest frame of an observer on Earth\n",
    "and (b) as perceived by a passenger on board the ship.\n",
    "\n",
    "$$x' = \\gamma (x - vt)$$\n",
    "\n",
    "$$t' = \\gamma \\left(t - \\frac{v x}{c^2}\\right)$$\n",
    "\n",
    "$$\\gamma = \\frac{1}{\\sqrt{1 - \\frac{v^2}{c^2}}}$$\n"
   ]
  },
  {
   "cell_type": "code",
   "execution_count": 2,
   "metadata": {},
   "outputs": [
    {
     "name": "stdout",
     "output_type": "stream",
     "text": [
      "x is light years away\n"
     ]
    },
    {
     "ename": "ValueError",
     "evalue": "invalid literal for int() with base 10: ''",
     "output_type": "error",
     "traceback": [
      "\u001b[0;31m---------------------------------------------------------------------------\u001b[0m",
      "\u001b[0;31mValueError\u001b[0m                                Traceback (most recent call last)",
      "Input \u001b[0;32mIn [2]\u001b[0m, in \u001b[0;36m<cell line: 2>\u001b[0;34m()\u001b[0m\n\u001b[1;32m      1\u001b[0m c \u001b[38;5;241m=\u001b[39m \u001b[38;5;241m299792458\u001b[39m\n\u001b[0;32m----> 2\u001b[0m x \u001b[38;5;241m=\u001b[39m \u001b[38;5;28;43mint\u001b[39;49m\u001b[43m \u001b[49m\u001b[43m(\u001b[49m\u001b[38;5;28;43minput\u001b[39;49m\u001b[43m(\u001b[49m\u001b[38;5;124;43m\"\u001b[39;49m\u001b[38;5;124;43mx is light years away\u001b[39;49m\u001b[38;5;124;43m\"\u001b[39;49m\u001b[43m)\u001b[49m\u001b[43m)\u001b[49m\u001b[38;5;241m*\u001b[39m \u001b[38;5;241m1000\u001b[39m\n\u001b[1;32m      3\u001b[0m v \u001b[38;5;241m=\u001b[39m c \u001b[38;5;241m*\u001b[39m \u001b[38;5;28mfloat\u001b[39m(\u001b[38;5;28minput\u001b[39m(\u001b[38;5;124m\"\u001b[39m\u001b[38;5;124mv is speed to get to the other planet\u001b[39m\u001b[38;5;124m\"\u001b[39m))\n\u001b[1;32m      4\u001b[0m t\u001b[38;5;241m=\u001b[39m v\u001b[38;5;241m/\u001b[39mx\n",
      "\u001b[0;31mValueError\u001b[0m: invalid literal for int() with base 10: ''"
     ]
    }
   ],
   "source": [
    "c = 299792458\n",
    "x = int (input(\"x is light years away\"))* 1000\n",
    "v = c * float(input(\"v is speed to get to the other planet\"))\n",
    "t= v/x\n",
    "gamma = (1/ ((1 -  ((v**2)/(c**2))**(1/2))))\n",
    "x_prime = gamma * (x - v*t)\n",
    "t_prime = gamma * (t - ((v * x)/ (c)** 2)) \n",
    "print (x_prime)\n",
    "print (t_prime)"
   ]
  },
  {
   "cell_type": "markdown",
   "metadata": {},
   "source": [
    "#### Use your program to calculate the answers for a planet 10 light years away with $v = 0.90c$,  $v = 0.98c$, $v = 0.999c$."
   ]
  },
  {
   "cell_type": "code",
   "execution_count": 1,
   "metadata": {},
   "outputs": [
    {
     "name": "stdout",
     "output_type": "stream",
     "text": [
      "x is light years away10\n",
      "v is speed to get to the other planet0.90\n",
      "-72799169377682.23\n",
      "269813.21189979237\n"
     ]
    }
   ],
   "source": [
    "c = 299792458\n",
    "x = int (input(\"x is light years away\"))* 1000\n",
    "v = c * float(input(\"v is speed to get to the other planet\"))\n",
    "t= v/x\n",
    "gamma = (1/ ((1 -  ((v**2)/(c**2))**(1/2))))\n",
    "x_prime = gamma * (x - v*t)\n",
    "t_prime = gamma * (t - ((v * x)/ (c)** 2)) \n",
    "print (x_prime)\n",
    "print (t_prime)\n",
    "\n"
   ]
  },
  {
   "cell_type": "code",
   "execution_count": 5,
   "metadata": {},
   "outputs": [
    {
     "name": "stdout",
     "output_type": "stream",
     "text": [
      "x is light years away10\n",
      "v is speed to get to the other planet0.98\n",
      "-431582236329419.4\n",
      "1468983.0425655346\n"
     ]
    }
   ],
   "source": [
    "c = 299792458\n",
    "x = int (input(\"x is light years away\"))* 1000\n",
    "v = c * float(input(\"v is speed to get to the other planet\"))\n",
    "t= v/x\n",
    "gamma = (1/ ((1 -  ((v**2)/(c**2))**(1/2))))\n",
    "x_prime = gamma * (x - v*t)\n",
    "t_prime = gamma * (t - ((v * x)/ (c)** 2)) \n",
    "print (x_prime)\n",
    "print (t_prime)"
   ]
  },
  {
   "cell_type": "code",
   "execution_count": 6,
   "metadata": {},
   "outputs": [
    {
     "name": "stdout",
     "output_type": "stream",
     "text": [
      "x is light years away10\n",
      "v is speed to get to the other planet0.999\n",
      "-8969585661345218.0\n",
      "29949266.520876918\n"
     ]
    }
   ],
   "source": [
    "c = 299792458\n",
    "x = int (input(\"x is light years away\"))* 1000\n",
    "v = c * float(input(\"v is speed to get to the other planet\"))\n",
    "t= v/x\n",
    "gamma = (1/ ((1 -  ((v**2)/(c**2))**(1/2))))\n",
    "x_prime = gamma * (x - v*t)\n",
    "t_prime = gamma * (t - ((v * x)/ (c)** 2)) \n",
    "print (x_prime)\n",
    "print (t_prime)"
   ]
  },
  {
   "cell_type": "markdown",
   "metadata": {},
   "source": [
    "### 3) The quadratic equation\n",
    "\n",
    " Write a program that takes as input three numbers, $a$, $b$, and $c$, and prints out the two solutions to the quadratic equation $ax^2 + bx + c = 0$ using the standard\n",
    "formula:\n",
    "\n",
    "$$x = \\frac{-b \\pm \\sqrt{b^2 - 4ac}}{2a}$$\n",
    "\n",
    "Use your program to compute the solutions of $0.001x^2 + 1000x + 0.001 = 0$."
   ]
  },
  {
   "cell_type": "code",
   "execution_count": 8,
   "metadata": {},
   "outputs": [
    {
     "name": "stdout",
     "output_type": "stream",
     "text": [
      "Enter a: 0.001\n",
      "Enter b: 1000\n",
      "Enter c: 0.001\n",
      "-9.999894245993346e-07 -999999.999999\n"
     ]
    }
   ],
   "source": [
    "a = float(input(\"Enter a: \"))\n",
    "b = float(input(\"Enter b: \"))\n",
    "c = float(input(\"Enter c: \"))\n",
    "x_1 = (-1000+ ((1000**2)- (4*0.001*0.001))**(1/2))/(2*0.001)\n",
    "x_2= (-1000- ((1000**2)- (4*0.001*0.001))**(1/2))/(2*0.001)\n",
    "print (x_1, x_2)"
   ]
  },
  {
   "cell_type": "markdown",
   "metadata": {},
   "source": [
    "There is another way to write the solutions to a quadratic equation. Multiplying top and bottom of the solution above by $-b \\mp \\sqrt{b^2 - 4ac}$, show that the solutions\n",
    "can also be written as:\n",
    "\n",
    "$$x = \\frac{2c}{-b \\mp \\sqrt{b^2 - 4ac}}$$\n",
    "\n",
    "Add further lines to your program to print these values in addition to the earlier ones and again use the program to solve $0.001x^2 + 1000x + 0.001 = 0$. What do you see? How do you explain it?"
   ]
  },
  {
   "cell_type": "code",
   "execution_count": 7,
   "metadata": {},
   "outputs": [
    {
     "name": "stdout",
     "output_type": "stream",
     "text": [
      "Enter a: 0.001\n",
      "Enter b: 1000\n",
      "Enter c: 0.001\n",
      "-1.99800200199401e-09 2.002002006010014e-09\n"
     ]
    }
   ],
   "source": [
    "a = float(input(\"Enter a: \"))\n",
    "b = float(input(\"Enter b: \"))\n",
    "c = float(input(\"Enter c: \"))\n",
    "x_1= (2* 0.001)/ (-1000 - ((1000**2)- (4*0.001*0.001)**(1/2)))\n",
    "x_2= (2* 0.001)/ (-1000 + ((1000**2)- (4*0.001*0.001)**(1/2)))\n",
    "print (x_1, x_2)\n"
   ]
  },
  {
   "cell_type": "markdown",
   "metadata": {},
   "source": [
    "Using what you have learned, write a new program that calculates both roots of a quadratic equation accurately in all cases."
   ]
  },
  {
   "cell_type": "code",
   "execution_count": 9,
   "metadata": {},
   "outputs": [
    {
     "name": "stdout",
     "output_type": "stream",
     "text": [
      "-9.999894245993346e-07 -999999.999999 -1.99800200199401e-09 2.002002006010014e-09\n"
     ]
    }
   ],
   "source": [
    "x_1 = (-1000+ ((1000**2)- (4*0.001*0.001))**(1/2))/(2*0.001)\n",
    "x_2 = (-1000- ((1000**2)- (4*0.001*0.001))**(1/2))/(2*0.001)\n",
    "x_3= (2* 0.001)/ (-1000 - ((1000**2)- (4*0.001*0.001)**(1/2)))\n",
    "x_4= (2* 0.001)/ (-1000 + ((1000**2)- (4*0.001*0.001)**(1/2)))\n",
    "print (x_1, x_2, x_3, x_4)"
   ]
  }
 ],
 "metadata": {
  "kernelspec": {
   "display_name": "Python 3 (ipykernel)",
   "language": "python",
   "name": "python3"
  },
  "language_info": {
   "codemirror_mode": {
    "name": "ipython",
    "version": 3
   },
   "file_extension": ".py",
   "mimetype": "text/x-python",
   "name": "python",
   "nbconvert_exporter": "python",
   "pygments_lexer": "ipython3",
   "version": "3.9.12"
  }
 },
 "nbformat": 4,
 "nbformat_minor": 4
}
